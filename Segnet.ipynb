{
 "cells": [
  {
   "cell_type": "code",
   "execution_count": 44,
   "metadata": {},
   "outputs": [],
   "source": [
    "from keras.models import Sequential\n",
    "from keras.layers import Reshape\n",
    "from keras.layers import add\n",
    "from keras.layers.core import Layer, Dense, Dropout, Activation, Flatten, Reshape, Permute\n",
    "from keras.layers.normalization import BatchNormalization\n",
    "from keras.layers import Input, Add, Dense, Activation, ZeroPadding2D, BatchNormalization, Flatten, Conv2D, AveragePooling2D, MaxPooling2D, GlobalMaxPooling2D\n",
    "from keras.layers.convolutional import Convolution3D, MaxPooling3D, ZeroPadding3D\n",
    "from keras.layers.convolutional import Convolution2D, MaxPooling2D, UpSampling2D, ZeroPadding2D\n",
    "from keras.layers.convolutional import Convolution1D, MaxPooling1D\n",
    "from keras.layers.recurrent import LSTM\n",
    "from keras.layers.advanced_activations import LeakyReLU\n",
    "from keras.optimizers import Adam , SGD\n",
    "from keras.layers.embeddings import Embedding\n",
    "from keras.utils import np_utils\n",
    "from keras import backend as K\n",
    "import numpy as np\n",
    "import os\n",
    "from keras.models import Model, load_model\n",
    "from matplotlib.pyplot import imshow\n",
    "import matplotlib.pyplot as plt\n",
    "from keras.preprocessing import image\n"
   ]
  },
  {
   "cell_type": "code",
   "execution_count": 45,
   "metadata": {},
   "outputs": [],
   "source": [
    "path_train_label=\"D:/Program Scripts/Machine Learning/datasets/dataset1 Image Segmentation/annotations_prepped_train\"\n",
    "path_train_data=\"D:/Program Scripts/Machine Learning/datasets/dataset1 Image Segmentation/images_prepped_train\"\n",
    "path_test_label=\"D:/Program Scripts/Machine Learning/datasets/dataset1 Image Segmentation/annotations_prepped_test\"\n",
    "path_test_data=\"D:/Program Scripts/Machine Learning/datasets/dataset1 Image Segmentation/images_prepped_test\"\n"
   ]
  },
  {
   "cell_type": "code",
   "execution_count": 46,
   "metadata": {},
   "outputs": [],
   "source": [
    "def preprocess(path):\n",
    "    data=os.listdir(path)\n",
    "    mat=[]\n",
    "    for i in data:\n",
    "        img=image.load_img(path+\"/\"+i)\n",
    "        img=np.array(img)\n",
    "        mat.append(img)\n",
    "    return np.array(mat)\n",
    "        \n",
    "    "
   ]
  },
  {
   "cell_type": "code",
   "execution_count": 47,
   "metadata": {},
   "outputs": [],
   "source": [
    "train_data,train_label,test_data,test_label=preprocess(path_train_data),preprocess(path_train_label),preprocess(path_test_data),preprocess(path_test_label)"
   ]
  },
  {
   "cell_type": "code",
   "execution_count": 54,
   "metadata": {},
   "outputs": [],
   "source": [
    "def seg_net(input_shape):\n",
    "    X_input = Input(input_shape)\n",
    "    #encoder\n",
    "    X = ZeroPadding2D((1, 1))(X_input)\n",
    "    X = Conv2D(64, (3,3),name = 'conv1')(X)\n",
    "    X = BatchNormalization(axis = 1, name = 'bn1')(X)\n",
    "    X = Activation('relu')(X)\n",
    "    X = MaxPooling2D((2, 2),name='max_pool1')(X)\n",
    "    \n",
    "    X = ZeroPadding2D((1, 1))(X_input)\n",
    "    X = Conv2D(128, (3,3),name = 'conv2')(X)\n",
    "    X = BatchNormalization(axis = 1, name = 'bn2')(X)\n",
    "    X = Activation('relu')(X)\n",
    "    X = MaxPooling2D((2, 2),name='max_pool3')(X)\n",
    "    \n",
    "    X = ZeroPadding2D((1, 1))(X_input)\n",
    "    X = Conv2D(256, (3,3),name = 'conv3')(X)\n",
    "    X = BatchNormalization(axis = 1, name = 'bn3')(X)\n",
    "    X = Activation('relu')(X)\n",
    "    X = MaxPooling2D((2, 2),name='max_pool3')(X)\n",
    "    \n",
    "    X = ZeroPadding2D((1, 1))(X_input)\n",
    "    X = Conv2D(512, (3,3),name = 'conv4')(X)\n",
    "    X = BatchNormalization(axis = 1, name = 'bn4')(X)\n",
    "    X = Activation('relu')(X)\n",
    "    \n",
    "    #decoder\n",
    "    X = Conv2D(512, (3,3),name = 'conv4')(X)\n",
    "    X = BatchNormalization(axis = 1, name = 'bn4')(X)\n",
    "    X = Activation('relu')(X)\n",
    "    \n",
    "    X=  UpSampling2D(size=(2,2))\n",
    "    X = ZeroPadding2D((1, 1))(X_input)\n",
    "    X = Conv2D(256, (3,3),name = 'conv3')(X)\n",
    "    X = BatchNormalization(axis = 1, name = 'bn3')(X)\n",
    "    \n",
    "    X=  UpSampling2D(size=(2,2))\n",
    "    X = ZeroPadding2D((1, 1))(X_input)\n",
    "    X = Conv2D(128, (3,3),name = 'conv2')(X)\n",
    "    X = BatchNormalization(axis = 1, name = 'bn2')(X)\n",
    "    \n",
    "    X=  UpSampling2D(size=(2,2))\n",
    "    X = ZeroPadding2D((1, 1))(X_input)\n",
    "    X = Conv2D(64, (3,3),name = 'conv1')(X)\n",
    "    X = BatchNormalization(axis = 1, name = 'bn1')(X)\n",
    "    \n",
    "    X = Conv2D(3 , 1, 1, border_mode='valid')(X)\n",
    "    X=  Activation('softmax')(X)\n",
    "    model = Model(inputs=X_input,outputs=X,name=\"segnet\")\n",
    "    return model\n",
    "    "
   ]
  },
  {
   "cell_type": "code",
   "execution_count": 55,
   "metadata": {},
   "outputs": [
    {
     "name": "stderr",
     "output_type": "stream",
     "text": [
      "c:\\users\\shantanu\\appdata\\local\\programs\\python\\python36\\lib\\site-packages\\ipykernel_launcher.py:47: UserWarning: Update your `Conv2D` call to the Keras 2 API: `Conv2D(3, (1, 1), padding=\"valid\")`\n"
     ]
    }
   ],
   "source": [
    "sModel=seg_net(train_data.shape[1:])"
   ]
  },
  {
   "cell_type": "code",
   "execution_count": 56,
   "metadata": {},
   "outputs": [],
   "source": [
    "sModel.compile('adam', 'binary_crossentropy', metrics=['accuracy'])"
   ]
  },
  {
   "cell_type": "code",
   "execution_count": null,
   "metadata": {},
   "outputs": [
    {
     "name": "stdout",
     "output_type": "stream",
     "text": [
      "Epoch 1/10\n",
      "367/367 [==============================] - 1315s 4s/step - loss: 2.7423 - acc: 0.1537\n",
      "Epoch 2/10\n",
      "367/367 [==============================] - 1338s 4s/step - loss: 2.5429 - acc: 0.1641A: 11:59 - loss: 2.5230 - a\n",
      "Epoch 3/10\n"
     ]
    }
   ],
   "source": [
    "sModel.fit(x=train_data,y=train_label,epochs=10)"
   ]
  },
  {
   "cell_type": "code",
   "execution_count": null,
   "metadata": {},
   "outputs": [],
   "source": [
    "preds = sModel.evaluate(x=test_data,y=test_label)\n",
    "print (\"Test Accuracy = \" + str(preds[1])"
   ]
  }
 ],
 "metadata": {
  "kernelspec": {
   "display_name": "Python 3",
   "language": "python",
   "name": "python3"
  },
  "language_info": {
   "codemirror_mode": {
    "name": "ipython",
    "version": 3
   },
   "file_extension": ".py",
   "mimetype": "text/x-python",
   "name": "python",
   "nbconvert_exporter": "python",
   "pygments_lexer": "ipython3",
   "version": "3.6.5"
  }
 },
 "nbformat": 4,
 "nbformat_minor": 2
}
